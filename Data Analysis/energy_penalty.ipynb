{
 "cells": [
  {
   "cell_type": "code",
   "execution_count": null,
   "metadata": {},
   "outputs": [],
   "source": [
    "'''This script is used to extract energy penalty values from the output files of MMPBSA.'''\n",
    "import os\n",
    "import numpy as np\n",
    "import matplotlib.pyplot as plt\n",
    "root_dir = \"/Directory\"\n",
    "forcefields = [\"ad_mg_gaff2\",\"at_mg_gaff2\",\"ad_mg_gaff\",\"at_mg_gaff\"]\n",
    "\n",
    "def extract_delta_total(filepath):\n",
    "    with open(filepath, 'r') as f:\n",
    "        for line in f:\n",
    "            if \"DELTA TOTAL\" in line:\n",
    "                return float(line.split()[2]) \n",
    "    return None\n",
    "\n",
    "results = {}\n",
    "\n",
    "for forcefield in forcefields:\n",
    "    data_dir = os.path.join(root_dir, forcefield)\n",
    "\n",
    "    if not os.path.exists(data_dir):\n",
    "        print(f\"Warning: {data_dir} does not exist.\")\n",
    "        continue\n",
    "\n",
    "    delta_totals = []\n",
    "    for filename in os.listdir(data_dir):\n",
    "        if filename.endswith(\".dat\"):\n",
    "            filepath = os.path.join(data_dir, filename)\n",
    "            delta = extract_delta_total(filepath)\n",
    "            if delta is not None:\n",
    "                delta_totals.append(delta)\n",
    "\n",
    "    if delta_totals:\n",
    "        avg_delta = np.mean(delta_totals)\n",
    "    else:\n",
    "        avg_delta = None\n",
    "\n",
    "    key = f\"{forcefield}\"\n",
    "    results[key] = avg_delta\n",
    "\n",
    "values_list = []\n",
    "for key, value in results.items():\n",
    "    print(f\"{key}: {value}\")\n",
    "    values_list.append(float(value))  \n",
    "print(values_list)"
   ]
  }
 ],
 "metadata": {
  "kernelspec": {
   "display_name": "Python 3",
   "language": "python",
   "name": "python3"
  },
  "language_info": {
   "name": "python",
   "version": "3.11.9"
  }
 },
 "nbformat": 4,
 "nbformat_minor": 2
}
